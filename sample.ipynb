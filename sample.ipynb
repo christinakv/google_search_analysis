{
 "cells": [
  {
   "metadata": {},
   "cell_type": "markdown",
   "source": [
    "# 📊 Google Trends Analysis: \"Cloud Computing\"\n",
    "\n",
    "This notebook explores the popularity of the search term **\"Cloud Computing\"** using the Google Trends API via the `pytrends` Python library.\n",
    "\n",
    "We’ll analyze:\n",
    "- Interest over time (globally and by date range)\n",
    "- Interest by geographic region\n",
    "- Related search queries\n",
    "- Google’s autocomplete keyword suggestions"
   ],
   "id": "b601e8967268e250"
  },
  {
   "metadata": {},
   "cell_type": "markdown",
   "source": [
    "## 🔧 Step 1: Import Required Libraries\n",
    "\n",
    "We begin by importing the necessary Python libraries:\n",
    "\n",
    "- `pandas`: for data manipulation and analysis\n",
    "- `pytrends`: unofficial Google Trends API for Python\n",
    "- `matplotlib.pyplot`: for plotting visualizations\n",
    "- `time`: to manage API request intervals (avoid rate-limiting)"
   ],
   "id": "91d20528f5c7203c"
  },
  {
   "metadata": {
    "ExecuteTime": {
     "end_time": "2025-07-22T08:59:42.898853Z",
     "start_time": "2025-07-22T08:59:41.990816Z"
    }
   },
   "cell_type": "code",
   "source": [
    "import pandas as pd\n",
    "from pytrends.request import TrendReq\n",
    "import matplotlib.pyplot as plt\n",
    "import time"
   ],
   "id": "ff1bef796990fe14",
   "outputs": [],
   "execution_count": 2
  },
  {
   "metadata": {},
   "cell_type": "markdown",
   "source": [
    "## 🚀 Step 2: Initialize PyTrends Client\n",
    "\n",
    "We initialize the PyTrends client using:\n",
    "\n",
    "- `hl='en-US'`: sets language to US English\n",
    "- `tz=360`: sets timezone offset in minutes (UTC+6 here; adjust as needed)\n",
    "\n",
    "This allows us to start building search queries."
   ],
   "id": "7a59fe83b405e06f"
  },
  {
   "metadata": {
    "ExecuteTime": {
     "end_time": "2025-07-22T08:59:45.674419Z",
     "start_time": "2025-07-22T08:59:45.084277Z"
    }
   },
   "cell_type": "code",
   "source": "pytrends = TrendReq(hl='en-US', tz=360)",
   "id": "da5d16510c53b788",
   "outputs": [],
   "execution_count": 3
  },
  {
   "metadata": {},
   "cell_type": "markdown",
   "source": [
    "## 📈 Step 3: Interest Over Time (Last 12 Months)\n",
    "\n",
    "Here, we fetch the global search interest for **\"Cloud Computing\"** over the past 12 months.\n",
    "\n",
    "- A short pause is added to avoid hitting rate limits.\n",
    "- The returned data includes a `\"Cloud Computing\"` column (interest scores) and an `\"isPartial\"` column, which may contain missing values.\n",
    "- To avoid Pandas `FutureWarning` regarding silent downcasting, we explicitly fill and cast `\"isPartial\"` to `bool`.\n",
    "\n",
    "We then display the top 10 days with the highest interest."
   ],
   "id": "55b7c73f31aab68a"
  },
  {
   "metadata": {
    "ExecuteTime": {
     "end_time": "2025-07-22T08:59:52.129544Z",
     "start_time": "2025-07-22T08:59:49.088541Z"
    }
   },
   "cell_type": "code",
   "source": [
    "# Set keyword and time range\n",
    "kw_list = [\"Cloud Computing\"]\n",
    "pytrends.build_payload(kw_list, cat=0, timeframe='today 12-m')\n",
    "\n",
    "# Pause to avoid throttling\n",
    "time.sleep(2)\n",
    "\n",
    "# Fetch interest over time data\n",
    "data_12m = pytrends.interest_over_time()\n",
    "\n",
    "# Optional: drop or convert 'isPartial' column if it exists\n",
    "if 'isPartial' in data_12m.columns:\n",
    "    data_12m['isPartial'] = data_12m['isPartial'].fillna(False).astype(bool)\n",
    "\n",
    "# Sort and get top 10 peaks\n",
    "data_12m_sorted = data_12m.sort_values(by=\"Cloud Computing\", ascending=False).head(10)\n",
    "data_12m_sorted"
   ],
   "id": "3ec35758a9e1a729",
   "outputs": [
    {
     "name": "stderr",
     "output_type": "stream",
     "text": [
      "/Users/christina/miniconda3/lib/python3.12/site-packages/pytrends/request.py:260: FutureWarning: Downcasting object dtype arrays on .fillna, .ffill, .bfill is deprecated and will change in a future version. Call result.infer_objects(copy=False) instead. To opt-in to the future behavior, set `pd.set_option('future.no_silent_downcasting', True)`\n",
      "  df = df.fillna(False)\n"
     ]
    },
    {
     "data": {
      "text/plain": [
       "            Cloud Computing  isPartial\n",
       "date                                  \n",
       "2025-06-15              100      False\n",
       "2024-12-01               96      False\n",
       "2024-11-17               95      False\n",
       "2025-06-22               93      False\n",
       "2025-06-08               93      False\n",
       "2025-05-04               92      False\n",
       "2025-04-20               92      False\n",
       "2025-01-19               91      False\n",
       "2025-07-20               91       True\n",
       "2024-11-10               90      False"
      ],
      "text/html": [
       "<div>\n",
       "<style scoped>\n",
       "    .dataframe tbody tr th:only-of-type {\n",
       "        vertical-align: middle;\n",
       "    }\n",
       "\n",
       "    .dataframe tbody tr th {\n",
       "        vertical-align: top;\n",
       "    }\n",
       "\n",
       "    .dataframe thead th {\n",
       "        text-align: right;\n",
       "    }\n",
       "</style>\n",
       "<table border=\"1\" class=\"dataframe\">\n",
       "  <thead>\n",
       "    <tr style=\"text-align: right;\">\n",
       "      <th></th>\n",
       "      <th>Cloud Computing</th>\n",
       "      <th>isPartial</th>\n",
       "    </tr>\n",
       "    <tr>\n",
       "      <th>date</th>\n",
       "      <th></th>\n",
       "      <th></th>\n",
       "    </tr>\n",
       "  </thead>\n",
       "  <tbody>\n",
       "    <tr>\n",
       "      <th>2025-06-15</th>\n",
       "      <td>100</td>\n",
       "      <td>False</td>\n",
       "    </tr>\n",
       "    <tr>\n",
       "      <th>2024-12-01</th>\n",
       "      <td>96</td>\n",
       "      <td>False</td>\n",
       "    </tr>\n",
       "    <tr>\n",
       "      <th>2024-11-17</th>\n",
       "      <td>95</td>\n",
       "      <td>False</td>\n",
       "    </tr>\n",
       "    <tr>\n",
       "      <th>2025-06-22</th>\n",
       "      <td>93</td>\n",
       "      <td>False</td>\n",
       "    </tr>\n",
       "    <tr>\n",
       "      <th>2025-06-08</th>\n",
       "      <td>93</td>\n",
       "      <td>False</td>\n",
       "    </tr>\n",
       "    <tr>\n",
       "      <th>2025-05-04</th>\n",
       "      <td>92</td>\n",
       "      <td>False</td>\n",
       "    </tr>\n",
       "    <tr>\n",
       "      <th>2025-04-20</th>\n",
       "      <td>92</td>\n",
       "      <td>False</td>\n",
       "    </tr>\n",
       "    <tr>\n",
       "      <th>2025-01-19</th>\n",
       "      <td>91</td>\n",
       "      <td>False</td>\n",
       "    </tr>\n",
       "    <tr>\n",
       "      <th>2025-07-20</th>\n",
       "      <td>91</td>\n",
       "      <td>True</td>\n",
       "    </tr>\n",
       "    <tr>\n",
       "      <th>2024-11-10</th>\n",
       "      <td>90</td>\n",
       "      <td>False</td>\n",
       "    </tr>\n",
       "  </tbody>\n",
       "</table>\n",
       "</div>"
      ]
     },
     "execution_count": 4,
     "metadata": {},
     "output_type": "execute_result"
    }
   ],
   "execution_count": 4
  },
  {
   "metadata": {},
   "cell_type": "markdown",
   "source": [
    "## ⏳ Step 4: Interest Over Time (January 2024)\n",
    "\n",
    "Next, we zoom in on **January 2024** to explore short-term trends.\n",
    "\n",
    "- This allows us to observe spikes or changes during a specific period.\n",
    "- Again, we display the top 10 days with the highest interest."
   ],
   "id": "b16e51f401829442"
  },
  {
   "metadata": {
    "ExecuteTime": {
     "end_time": "2025-07-22T08:59:55.962521Z",
     "start_time": "2025-07-22T08:59:55.016769Z"
    }
   },
   "cell_type": "code",
   "source": [
    "# Focus on a specific month\n",
    "pytrends.build_payload(kw_list, cat=0, timeframe='2024-01-01 2024-02-01')\n",
    "\n",
    "# Fetch and sort\n",
    "data_jan = pytrends.interest_over_time()\n",
    "data_jan_sorted = data_jan.sort_values(by=\"Cloud Computing\", ascending=False).head(10)\n",
    "data_jan_sorted"
   ],
   "id": "793fc5458352a2ca",
   "outputs": [
    {
     "data": {
      "text/plain": [
       "            Cloud Computing  isPartial\n",
       "date                                  \n",
       "2024-01-29              100      False\n",
       "2024-01-03               95      False\n",
       "2024-01-10               87      False\n",
       "2024-01-30               85      False\n",
       "2024-01-23               82      False\n",
       "2024-01-27               81      False\n",
       "2024-01-09               80      False\n",
       "2024-01-24               78      False\n",
       "2024-01-08               78      False\n",
       "2024-01-31               77      False"
      ],
      "text/html": [
       "<div>\n",
       "<style scoped>\n",
       "    .dataframe tbody tr th:only-of-type {\n",
       "        vertical-align: middle;\n",
       "    }\n",
       "\n",
       "    .dataframe tbody tr th {\n",
       "        vertical-align: top;\n",
       "    }\n",
       "\n",
       "    .dataframe thead th {\n",
       "        text-align: right;\n",
       "    }\n",
       "</style>\n",
       "<table border=\"1\" class=\"dataframe\">\n",
       "  <thead>\n",
       "    <tr style=\"text-align: right;\">\n",
       "      <th></th>\n",
       "      <th>Cloud Computing</th>\n",
       "      <th>isPartial</th>\n",
       "    </tr>\n",
       "    <tr>\n",
       "      <th>date</th>\n",
       "      <th></th>\n",
       "      <th></th>\n",
       "    </tr>\n",
       "  </thead>\n",
       "  <tbody>\n",
       "    <tr>\n",
       "      <th>2024-01-29</th>\n",
       "      <td>100</td>\n",
       "      <td>False</td>\n",
       "    </tr>\n",
       "    <tr>\n",
       "      <th>2024-01-03</th>\n",
       "      <td>95</td>\n",
       "      <td>False</td>\n",
       "    </tr>\n",
       "    <tr>\n",
       "      <th>2024-01-10</th>\n",
       "      <td>87</td>\n",
       "      <td>False</td>\n",
       "    </tr>\n",
       "    <tr>\n",
       "      <th>2024-01-30</th>\n",
       "      <td>85</td>\n",
       "      <td>False</td>\n",
       "    </tr>\n",
       "    <tr>\n",
       "      <th>2024-01-23</th>\n",
       "      <td>82</td>\n",
       "      <td>False</td>\n",
       "    </tr>\n",
       "    <tr>\n",
       "      <th>2024-01-27</th>\n",
       "      <td>81</td>\n",
       "      <td>False</td>\n",
       "    </tr>\n",
       "    <tr>\n",
       "      <th>2024-01-09</th>\n",
       "      <td>80</td>\n",
       "      <td>False</td>\n",
       "    </tr>\n",
       "    <tr>\n",
       "      <th>2024-01-24</th>\n",
       "      <td>78</td>\n",
       "      <td>False</td>\n",
       "    </tr>\n",
       "    <tr>\n",
       "      <th>2024-01-08</th>\n",
       "      <td>78</td>\n",
       "      <td>False</td>\n",
       "    </tr>\n",
       "    <tr>\n",
       "      <th>2024-01-31</th>\n",
       "      <td>77</td>\n",
       "      <td>False</td>\n",
       "    </tr>\n",
       "  </tbody>\n",
       "</table>\n",
       "</div>"
      ]
     },
     "execution_count": 5,
     "metadata": {},
     "output_type": "execute_result"
    }
   ],
   "execution_count": 5
  },
  {
   "metadata": {},
   "cell_type": "markdown",
   "source": [
    "## 🌍 Step 5: Interest by Region\n",
    "\n",
    "This section shows which **geographic regions** have the highest interest in \"Cloud Computing\".\n",
    "\n",
    "- Data is grouped by region (country or state).\n",
    "- We visualize the top 10 regions using a bar chart.\n",
    "- Useful for identifying where demand or curiosity is strongest globally."
   ],
   "id": "46ebf8a976852574"
  },
  {
   "metadata": {
    "ExecuteTime": {
     "end_time": "2025-07-22T08:59:59.485494Z",
     "start_time": "2025-07-22T08:59:58.153204Z"
    }
   },
   "cell_type": "code",
   "source": [
    "# Get interest by region\n",
    "region_data = pytrends.interest_by_region()\n",
    "top_regions = region_data.sort_values(by=\"Cloud Computing\", ascending=False).head(10)\n",
    "\n",
    "# Plotting\n",
    "top_regions.reset_index().plot(x='geoName', y='Cloud Computing', figsize=(10, 5), kind=\"bar\")\n",
    "plt.title(\"Top 10 Regions Interested in 'Cloud Computing'\")\n",
    "plt.ylabel(\"Interest Level\")\n",
    "plt.xlabel(\"Region\")\n",
    "plt.style.use('fivethirtyeight')\n",
    "plt.tight_layout()\n",
    "\n",
    "# Save the plot as an image\n",
    "plt.savefig('images/interest_by_region.png')\n",
    "\n",
    "plt.show()"
   ],
   "id": "7c821c039d69c844",
   "outputs": [
    {
     "data": {
      "text/plain": [
       "<Figure size 1000x500 with 1 Axes>"
      ],
      "image/png": "[encoded data removed]"
     },
     "metadata": {},
     "output_type": "display_data"
    }
   ],
   "execution_count": 6
  },
  {
   "metadata": {},
   "cell_type": "markdown",
   "source": [
    "## 🔎 Step 6: Related Search Queries\n",
    "\n",
    "We fetch related queries that users also searched for along with \"Cloud Computing\".\n",
    "\n",
    "- These can reveal common **user questions**, **associated technologies**, or **emerging topics**.\n",
    "- Helps us understand the context of user searches.\n",
    "- If no data is returned, a message is printed instead."
   ],
   "id": "9ab516f44285b66c"
  },
  {
   "metadata": {
    "ExecuteTime": {
     "end_time": "2025-07-22T09:00:12.225897Z",
     "start_time": "2025-07-22T09:00:11.442178Z"
    }
   },
   "cell_type": "code",
   "source": [
    "try:\n",
    "    pytrends.build_payload(kw_list=['Cloud Computing'])\n",
    "    related_queries = pytrends.related_queries()\n",
    "    related_queries['Cloud Computing']['top']\n",
    "except (KeyError, IndexError):\n",
    "    print(\"No related queries found for 'Cloud Computing'\")"
   ],
   "id": "16d996c55262a75f",
   "outputs": [
    {
     "name": "stdout",
     "output_type": "stream",
     "text": [
      "No related queries found for 'Cloud Computing'\n"
     ]
    }
   ],
   "execution_count": 9
  },
  {
   "metadata": {},
   "cell_type": "markdown",
   "source": [
    "## 💡 Step 7: Keyword Suggestions (Autocomplete)\n",
    "\n",
    "Google's suggestion API provides **autocomplete keyword ideas** for \"Cloud Computing\".\n",
    "\n",
    "- Useful for expanding your keyword list.\n",
    "- Helpful in SEO, market research, and content creation.\n",
    "- We display the list in a structured table after dropping the unused `mid` column."
   ],
   "id": "894e7f9a4b4530a7"
  },
  {
   "metadata": {
    "ExecuteTime": {
     "end_time": "2025-07-22T09:00:14.505865Z",
     "start_time": "2025-07-22T09:00:14.098822Z"
    }
   },
   "cell_type": "code",
   "source": [
    "# Get keyword suggestions\n",
    "suggestions = pytrends.suggestions(keyword='Cloud Computing')\n",
    "\n",
    "# Convert to DataFrame and drop 'mid' column if it exists\n",
    "suggestions_df = pd.DataFrame(suggestions)\n",
    "if 'mid' in suggestions_df.columns:\n",
    "    suggestions_df = suggestions_df.drop(columns='mid')\n",
    "suggestions_df"
   ],
   "id": "abc362f07bc55112",
   "outputs": [
    {
     "data": {
      "text/plain": [
       "                                    title                          type\n",
       "0                         Cloud computing                         Topic\n",
       "1                         Cloud computing                         Topic\n",
       "2                Cloud computing security                         Topic\n",
       "3                           Alibaba Cloud  Computer application company\n",
       "4  Private cloud computing infrastructure                         Topic"
      ],
      "text/html": [
       "<div>\n",
       "<style scoped>\n",
       "    .dataframe tbody tr th:only-of-type {\n",
       "        vertical-align: middle;\n",
       "    }\n",
       "\n",
       "    .dataframe tbody tr th {\n",
       "        vertical-align: top;\n",
       "    }\n",
       "\n",
       "    .dataframe thead th {\n",
       "        text-align: right;\n",
       "    }\n",
       "</style>\n",
       "<table border=\"1\" class=\"dataframe\">\n",
       "  <thead>\n",
       "    <tr style=\"text-align: right;\">\n",
       "      <th></th>\n",
       "      <th>title</th>\n",
       "      <th>type</th>\n",
       "    </tr>\n",
       "  </thead>\n",
       "  <tbody>\n",
       "    <tr>\n",
       "      <th>0</th>\n",
       "      <td>Cloud computing</td>\n",
       "      <td>Topic</td>\n",
       "    </tr>\n",
       "    <tr>\n",
       "      <th>1</th>\n",
       "      <td>Cloud computing</td>\n",
       "      <td>Topic</td>\n",
       "    </tr>\n",
       "    <tr>\n",
       "      <th>2</th>\n",
       "      <td>Cloud computing security</td>\n",
       "      <td>Topic</td>\n",
       "    </tr>\n",
       "    <tr>\n",
       "      <th>3</th>\n",
       "      <td>Alibaba Cloud</td>\n",
       "      <td>Computer application company</td>\n",
       "    </tr>\n",
       "    <tr>\n",
       "      <th>4</th>\n",
       "      <td>Private cloud computing infrastructure</td>\n",
       "      <td>Topic</td>\n",
       "    </tr>\n",
       "  </tbody>\n",
       "</table>\n",
       "</div>"
      ]
     },
     "execution_count": 10,
     "metadata": {},
     "output_type": "execute_result"
    }
   ],
   "execution_count": 10
  }
 ],
 "metadata": {
  "kernelspec": {
   "display_name": "Python 3",
   "language": "python",
   "name": "python3"
  },
  "language_info": {
   "codemirror_mode": {
    "name": "ipython",
    "version": 2
   },
   "file_extension": ".py",
   "mimetype": "text/x-python",
   "name": "python",
   "nbconvert_exporter": "python",
   "pygments_lexer": "ipython2",
   "version": "2.7.6"
  }
 },
 "nbformat": 4,
 "nbformat_minor": 5
}
